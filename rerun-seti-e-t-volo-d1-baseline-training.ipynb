{
 "cells": [
  {
   "cell_type": "markdown",
   "id": "thermal-borough",
   "metadata": {
    "papermill": {
     "duration": 0.02561,
     "end_time": "2021-07-15T12:49:43.808868",
     "exception": false,
     "start_time": "2021-07-15T12:49:43.783258",
     "status": "completed"
    },
    "tags": []
   },
   "source": [
    "# About\n",
    "\n",
    "Here I'm trying to train _VOLO_: Vision Outlooker for Visual Recognition.  \n",
    "It is a new vison transformer which achinved good results with fewer parameters than others.   \n",
    "\n",
    "paper: https://arxiv.org/abs/2106.13112v1  \n",
    "code: https://github.com/sail-sg/volo  \n",
    "\n",
    "I uploaded official code and pretrained weights on Kaggle Datasets:  \n",
    "https://www.kaggle.com/ttahara/volo-package\n",
    "\n",
    "I make some changes for simply training binary classification task.\n",
    "\n",
    "<br>\n",
    "I have prepared the training and inference notebooks because the training time per fold is longer than resnet18d.\n",
    "  \n",
    "  \n",
    "This is the training notebook for **fold0**."
   ]
  },
  {
   "cell_type": "markdown",
   "id": "alpha-alias",
   "metadata": {
    "papermill": {
     "duration": 0.024143,
     "end_time": "2021-07-15T12:49:43.857565",
     "exception": false,
     "start_time": "2021-07-15T12:49:43.833422",
     "status": "completed"
    },
    "tags": []
   },
   "source": [
    "### Experimental Settings"
   ]
  },
  {
   "cell_type": "markdown",
   "id": "improving-statistics",
   "metadata": {
    "papermill": {
     "duration": 0.024149,
     "end_time": "2021-07-15T12:49:43.906157",
     "exception": false,
     "start_time": "2021-07-15T12:49:43.882008",
     "status": "completed"
    },
    "tags": []
   },
   "source": [
    "### model\n",
    "* backbone: volo_d1\n",
    "* head classifier: one linear layer\n",
    "* num of input channels: **1**\n",
    "\n",
    "### data augmentation\n",
    "* implemented by [albumentations](https://albumentations.ai/docs/) **except for Mixup**\n",
    "* Train\n",
    "  * Resize\n",
    "  * HorizontalFlip\n",
    "  * VerticalFlip\n",
    "  * ShiftScaleRotate\n",
    "  * RandomResizedCrop\n",
    "  * Mixup(alpha=1.0)\n",
    "* Val, Test\n",
    "  * Resize\n",
    "\n",
    "### learning settings\n",
    "* CV Strategy: Stratified KFold (K=5)\n",
    "* max epochs: 30\n",
    "* data:\n",
    "  * input image size: 1x256x256\n",
    "  * batch size: 32\n",
    "* loss: [BCEWithLogitsLoss](https://pytorch.org/docs/stable/generated/torch.nn.BCEWithLogitsLoss.html#torch.nn.BCEWithLogitsLoss)\n",
    "* optimizer: [AdamW](https://pytorch.org/docs/stable/optim.html#torch.optim.AdamW)\n",
    "  * weight decay: 5.0e-02\n",
    "* learning rate scheduler: [OneCycleLR](https://pytorch.org/docs/stable/optim.html#torch.optim.lr_scheduler.OneCycleLR) \n",
    "  * epochs: 30\n",
    "  * max_lr: 5e-5\n",
    "  * pct_start: 0.1\n",
    "  * anneal_strategy: cos\n",
    "  * div_factor: 1.0e+2\n",
    "  * final_div_factor: 1\n",
    "  \n",
    "### NOTE: I use only on-target ('A') observations\n",
    "\n",
    "```python\n",
    "img = np.load(path)[[0, 2, 4]]          # shape: (3, 273, 256)\n",
    "img = np.vstack(img)                    # shape: (819, 256)\n",
    "img = img.transpose(1, 0)               # shape: (256, 819)\n",
    "```"
   ]
  },
  {
   "cell_type": "markdown",
   "id": "decreased-commons",
   "metadata": {
    "papermill": {
     "duration": 0.023935,
     "end_time": "2021-07-15T12:49:43.954155",
     "exception": false,
     "start_time": "2021-07-15T12:49:43.930220",
     "status": "completed"
    },
    "tags": []
   },
   "source": [
    "# Prapere"
   ]
  },
  {
   "cell_type": "markdown",
   "id": "liquid-watch",
   "metadata": {
    "papermill": {
     "duration": 0.024035,
     "end_time": "2021-07-15T12:49:44.002467",
     "exception": false,
     "start_time": "2021-07-15T12:49:43.978432",
     "status": "completed"
    },
    "tags": []
   },
   "source": [
    "## Install"
   ]
  },
  {
   "cell_type": "code",
   "execution_count": 1,
   "id": "engaged-holder",
   "metadata": {
    "_kg_hide-output": true,
    "execution": {
     "iopub.execute_input": "2021-07-15T12:49:44.056173Z",
     "iopub.status.busy": "2021-07-15T12:49:44.054659Z",
     "iopub.status.idle": "2021-07-15T12:50:07.023583Z",
     "shell.execute_reply": "2021-07-15T12:50:07.024165Z",
     "shell.execute_reply.started": "2021-07-15T12:24:14.094138Z"
    },
    "papermill": {
     "duration": 22.997876,
     "end_time": "2021-07-15T12:50:07.024475",
     "exception": false,
     "start_time": "2021-07-15T12:49:44.026599",
     "status": "completed"
    },
    "tags": []
   },
   "outputs": [
    {
     "name": "stdout",
     "output_type": "stream",
     "text": [
      "Collecting pytorch-pfn-extras\n",
      "  Downloading pytorch-pfn-extras-0.4.2.tar.gz (94 kB)\n",
      "  Installing build dependencies: started\n",
      "  Installing build dependencies: finished with status 'done'\n",
      "  Getting requirements to build wheel: started\n",
      "  Getting requirements to build wheel: finished with status 'done'\n",
      "    Preparing wheel metadata: started\n",
      "    Preparing wheel metadata: finished with status 'done'\n",
      "Requirement already satisfied: numpy in /opt/conda/lib/python3.7/site-packages (from pytorch-pfn-extras) (1.19.5)\n",
      "Requirement already satisfied: torch in /opt/conda/lib/python3.7/site-packages (from pytorch-pfn-extras) (1.7.0)\n",
      "Requirement already satisfied: future in /opt/conda/lib/python3.7/site-packages (from torch->pytorch-pfn-extras) (0.18.2)\n",
      "Requirement already satisfied: typing_extensions in /opt/conda/lib/python3.7/site-packages (from torch->pytorch-pfn-extras) (3.7.4.3)\n",
      "Requirement already satisfied: dataclasses in /opt/conda/lib/python3.7/site-packages (from torch->pytorch-pfn-extras) (0.6)\n",
      "Building wheels for collected packages: pytorch-pfn-extras\n",
      "  Building wheel for pytorch-pfn-extras (PEP 517): started\n",
      "  Building wheel for pytorch-pfn-extras (PEP 517): finished with status 'done'\n",
      "  Created wheel for pytorch-pfn-extras: filename=pytorch_pfn_extras-0.4.2-py3-none-any.whl size=103742 sha256=78e7a5e15777a68dc1813cb2096ca9cd05857f5093869de49906461329156a35\n",
      "  Stored in directory: /root/.cache/pip/wheels/99/01/19/2625a0da50484ff7512855de4cabede1047d6345c93813cbc7\n",
      "Successfully built pytorch-pfn-extras\n",
      "Installing collected packages: pytorch-pfn-extras\n",
      "Successfully installed pytorch-pfn-extras-0.4.2\n",
      "Collecting timm\n",
      "  Downloading timm-0.4.12-py3-none-any.whl (376 kB)\n",
      "Requirement already satisfied: torchvision in /opt/conda/lib/python3.7/site-packages (from timm) (0.8.1)\n",
      "Requirement already satisfied: torch>=1.4 in /opt/conda/lib/python3.7/site-packages (from timm) (1.7.0)\n",
      "Requirement already satisfied: future in /opt/conda/lib/python3.7/site-packages (from torch>=1.4->timm) (0.18.2)\n",
      "Requirement already satisfied: typing_extensions in /opt/conda/lib/python3.7/site-packages (from torch>=1.4->timm) (3.7.4.3)\n",
      "Requirement already satisfied: dataclasses in /opt/conda/lib/python3.7/site-packages (from torch>=1.4->timm) (0.6)\n",
      "Requirement already satisfied: numpy in /opt/conda/lib/python3.7/site-packages (from torch>=1.4->timm) (1.19.5)\n",
      "Requirement already satisfied: pillow>=4.1.1 in /opt/conda/lib/python3.7/site-packages (from torchvision->timm) (7.2.0)\n",
      "Installing collected packages: timm\n",
      "Successfully installed timm-0.4.12\n"
     ]
    }
   ],
   "source": [
    "%%bash\n",
    "pip install pytorch-pfn-extras\n",
    "pip install timm"
   ]
  },
  {
   "cell_type": "markdown",
   "id": "black-destiny",
   "metadata": {
    "papermill": {
     "duration": 0.025404,
     "end_time": "2021-07-15T12:50:07.080021",
     "exception": false,
     "start_time": "2021-07-15T12:50:07.054617",
     "status": "completed"
    },
    "tags": []
   },
   "source": [
    "## Import"
   ]
  },
  {
   "cell_type": "code",
   "execution_count": 2,
   "id": "conscious-target",
   "metadata": {
    "_cell_guid": "b1076dfc-b9ad-4769-8c92-a6c4dae69d19",
    "_uuid": "8f2839f25d086af736a60e9eeb907d3b93b6e0e5",
    "execution": {
     "iopub.execute_input": "2021-07-15T12:50:07.142047Z",
     "iopub.status.busy": "2021-07-15T12:50:07.141154Z",
     "iopub.status.idle": "2021-07-15T12:50:12.359240Z",
     "shell.execute_reply": "2021-07-15T12:50:12.358343Z",
     "shell.execute_reply.started": "2021-07-15T12:24:36.072244Z"
    },
    "papermill": {
     "duration": 5.253244,
     "end_time": "2021-07-15T12:50:12.359381",
     "exception": false,
     "start_time": "2021-07-15T12:50:07.106137",
     "status": "completed"
    },
    "tags": []
   },
   "outputs": [],
   "source": [
    "import os\n",
    "import gc\n",
    "import sys\n",
    "import copy\n",
    "import yaml\n",
    "import random\n",
    "import shutil\n",
    "import typing as tp\n",
    "from pathlib import Path\n",
    "\n",
    "import numpy as np\n",
    "import pandas as pd\n",
    "\n",
    "from tqdm.notebook import tqdm\n",
    "from sklearn.model_selection import StratifiedKFold\n",
    "from sklearn.metrics import roc_auc_score\n",
    "\n",
    "import torch\n",
    "from torch import nn\n",
    "from torch import optim\n",
    "from torch.optim import lr_scheduler\n",
    "from torch.cuda import amp\n",
    "\n",
    "import timm\n",
    "\n",
    "import albumentations as A\n",
    "from albumentations.pytorch import ToTensorV2\n",
    "\n",
    "import pytorch_pfn_extras as ppe\n",
    "from pytorch_pfn_extras.config import Config\n",
    "from pytorch_pfn_extras.training import extensions as ppe_exts, triggers as ppe_triggers\n",
    "\n",
    "sys.path.append(\"../input/volo-package\")\n",
    "from volo.models import volo_d1, volo_d2, volo_d3, volo_d4, volo_d5  # register models to timm\n",
    "from volo.utils import load_pretrained_weights as volo_load_weights"
   ]
  },
  {
   "cell_type": "code",
   "execution_count": 3,
   "id": "inappropriate-glance",
   "metadata": {
    "execution": {
     "iopub.execute_input": "2021-07-15T12:50:12.415187Z",
     "iopub.status.busy": "2021-07-15T12:50:12.414460Z",
     "iopub.status.idle": "2021-07-15T12:50:12.416772Z",
     "shell.execute_reply": "2021-07-15T12:50:12.417198Z",
     "shell.execute_reply.started": "2021-07-15T12:24:41.631022Z"
    },
    "papermill": {
     "duration": 0.032975,
     "end_time": "2021-07-15T12:50:12.417324",
     "exception": false,
     "start_time": "2021-07-15T12:50:12.384349",
     "status": "completed"
    },
    "tags": []
   },
   "outputs": [],
   "source": [
    "ROOT = Path.cwd().parent\n",
    "INPUT = ROOT / \"input\"\n",
    "OUTPUT = ROOT / \"output\"\n",
    "DATA = INPUT / \"seti-breakthrough-listen\"\n",
    "TRAIN = DATA / \"train\"\n",
    "TEST = DATA / \"test\"\n",
    "\n",
    "TMP = ROOT / \"tmp\"\n",
    "TMP.mkdir(exist_ok=True)\n",
    "\n",
    "RANDAM_SEED = 1086\n",
    "CLASSES = [\"target\",]\n",
    "N_CLASSES = len(CLASSES)\n",
    "# FOLDS = [0, 1, 2, 3, 4]\n",
    "# N_FOLDS = len(FOLDS)\n",
    "FOLDS = [0,]\n",
    "N_FOLDS = 5"
   ]
  },
  {
   "cell_type": "markdown",
   "id": "surrounded-blocking",
   "metadata": {
    "papermill": {
     "duration": 0.024288,
     "end_time": "2021-07-15T12:50:12.466355",
     "exception": false,
     "start_time": "2021-07-15T12:50:12.442067",
     "status": "completed"
    },
    "tags": []
   },
   "source": [
    "## Read Data, Split folds"
   ]
  },
  {
   "cell_type": "code",
   "execution_count": 4,
   "id": "official-bedroom",
   "metadata": {
    "execution": {
     "iopub.execute_input": "2021-07-15T12:50:12.520142Z",
     "iopub.status.busy": "2021-07-15T12:50:12.519585Z",
     "iopub.status.idle": "2021-07-15T12:50:12.597904Z",
     "shell.execute_reply": "2021-07-15T12:50:12.597419Z",
     "shell.execute_reply.started": "2021-07-15T12:24:41.639689Z"
    },
    "papermill": {
     "duration": 0.10708,
     "end_time": "2021-07-15T12:50:12.598051",
     "exception": false,
     "start_time": "2021-07-15T12:50:12.490971",
     "status": "completed"
    },
    "tags": []
   },
   "outputs": [],
   "source": [
    "train = pd.read_csv(DATA / \"train_labels.csv\")\n",
    "smpl_sub = pd.read_csv(DATA / \"sample_submission.csv\")"
   ]
  },
  {
   "cell_type": "code",
   "execution_count": 5,
   "id": "prompt-diving",
   "metadata": {
    "execution": {
     "iopub.execute_input": "2021-07-15T12:50:12.656829Z",
     "iopub.status.busy": "2021-07-15T12:50:12.656071Z",
     "iopub.status.idle": "2021-07-15T12:50:12.678328Z",
     "shell.execute_reply": "2021-07-15T12:50:12.677874Z",
     "shell.execute_reply.started": "2021-07-15T12:24:41.748959Z"
    },
    "papermill": {
     "duration": 0.055725,
     "end_time": "2021-07-15T12:50:12.678453",
     "exception": false,
     "start_time": "2021-07-15T12:50:12.622728",
     "status": "completed"
    },
    "tags": []
   },
   "outputs": [],
   "source": [
    "skf = StratifiedKFold(n_splits=N_FOLDS, shuffle=True, random_state=RANDAM_SEED)\n",
    "train[\"fold\"] = -1\n",
    "for fold_id, (_, val_idx) in enumerate(skf.split(train[\"id\"], train[\"target\"])):\n",
    "    train.loc[val_idx, \"fold\"] = fold_id"
   ]
  },
  {
   "cell_type": "code",
   "execution_count": 6,
   "id": "trained-fundamental",
   "metadata": {
    "execution": {
     "iopub.execute_input": "2021-07-15T12:50:12.739665Z",
     "iopub.status.busy": "2021-07-15T12:50:12.739049Z",
     "iopub.status.idle": "2021-07-15T12:50:12.761714Z",
     "shell.execute_reply": "2021-07-15T12:50:12.762173Z",
     "shell.execute_reply.started": "2021-07-15T12:24:41.787057Z"
    },
    "papermill": {
     "duration": 0.059339,
     "end_time": "2021-07-15T12:50:12.762313",
     "exception": false,
     "start_time": "2021-07-15T12:50:12.702974",
     "status": "completed"
    },
    "tags": []
   },
   "outputs": [
    {
     "data": {
      "text/html": [
       "<div>\n",
       "<style scoped>\n",
       "    .dataframe tbody tr th:only-of-type {\n",
       "        vertical-align: middle;\n",
       "    }\n",
       "\n",
       "    .dataframe tbody tr th {\n",
       "        vertical-align: top;\n",
       "    }\n",
       "\n",
       "    .dataframe thead th {\n",
       "        text-align: right;\n",
       "    }\n",
       "</style>\n",
       "<table border=\"1\" class=\"dataframe\">\n",
       "  <thead>\n",
       "    <tr style=\"text-align: right;\">\n",
       "      <th></th>\n",
       "      <th>total</th>\n",
       "      <th>pos</th>\n",
       "    </tr>\n",
       "    <tr>\n",
       "      <th>fold</th>\n",
       "      <th></th>\n",
       "      <th></th>\n",
       "    </tr>\n",
       "  </thead>\n",
       "  <tbody>\n",
       "    <tr>\n",
       "      <th>0</th>\n",
       "      <td>12000</td>\n",
       "      <td>1200</td>\n",
       "    </tr>\n",
       "    <tr>\n",
       "      <th>1</th>\n",
       "      <td>12000</td>\n",
       "      <td>1200</td>\n",
       "    </tr>\n",
       "    <tr>\n",
       "      <th>2</th>\n",
       "      <td>12000</td>\n",
       "      <td>1200</td>\n",
       "    </tr>\n",
       "    <tr>\n",
       "      <th>3</th>\n",
       "      <td>12000</td>\n",
       "      <td>1200</td>\n",
       "    </tr>\n",
       "    <tr>\n",
       "      <th>4</th>\n",
       "      <td>12000</td>\n",
       "      <td>1200</td>\n",
       "    </tr>\n",
       "  </tbody>\n",
       "</table>\n",
       "</div>"
      ],
      "text/plain": [
       "      total   pos\n",
       "fold             \n",
       "0     12000  1200\n",
       "1     12000  1200\n",
       "2     12000  1200\n",
       "3     12000  1200\n",
       "4     12000  1200"
      ]
     },
     "execution_count": 6,
     "metadata": {},
     "output_type": "execute_result"
    }
   ],
   "source": [
    "train.groupby(\"fold\").agg(total=(\"id\", len), pos=(\"target\", sum))"
   ]
  },
  {
   "cell_type": "markdown",
   "id": "adequate-operation",
   "metadata": {
    "papermill": {
     "duration": 0.024832,
     "end_time": "2021-07-15T12:50:12.812380",
     "exception": false,
     "start_time": "2021-07-15T12:50:12.787548",
     "status": "completed"
    },
    "tags": []
   },
   "source": [
    "## "
   ]
  },
  {
   "cell_type": "markdown",
   "id": "failing-robinson",
   "metadata": {
    "papermill": {
     "duration": 0.02477,
     "end_time": "2021-07-15T12:50:12.862034",
     "exception": false,
     "start_time": "2021-07-15T12:50:12.837264",
     "status": "completed"
    },
    "tags": []
   },
   "source": [
    "## Definition of Model, Dataset, Metric"
   ]
  },
  {
   "cell_type": "markdown",
   "id": "cleared-dubai",
   "metadata": {
    "papermill": {
     "duration": 0.025432,
     "end_time": "2021-07-15T12:50:12.912427",
     "exception": false,
     "start_time": "2021-07-15T12:50:12.886995",
     "status": "completed"
    },
    "tags": []
   },
   "source": [
    "### Model"
   ]
  },
  {
   "cell_type": "code",
   "execution_count": 7,
   "id": "pleasant-blink",
   "metadata": {
    "_kg_hide-input": true,
    "execution": {
     "iopub.execute_input": "2021-07-15T12:50:12.977714Z",
     "iopub.status.busy": "2021-07-15T12:50:12.976901Z",
     "iopub.status.idle": "2021-07-15T12:50:12.979425Z",
     "shell.execute_reply": "2021-07-15T12:50:12.979030Z",
     "shell.execute_reply.started": "2021-07-15T12:24:41.823832Z"
    },
    "papermill": {
     "duration": 0.04232,
     "end_time": "2021-07-15T12:50:12.979531",
     "exception": false,
     "start_time": "2021-07-15T12:50:12.937211",
     "status": "completed"
    },
    "tags": []
   },
   "outputs": [],
   "source": [
    "VOLO_CHECHPOINTS = {\n",
    "    \"volo_d1\": \"../input/volo-package/d1_224_84.2.pth.tar\",\n",
    "    \"volo_d1-384\": \"../input/volo-package/d1_384_85.2.pth.tar\",\n",
    "    \"volo_d2\": \"../input/volo-package/d2_224_85.2.pth.tar\",\n",
    "    \"volo_d2-384\": \"../input/volo-package/d2_384_86.0.pth.tar\",\n",
    "    \"volo_d3\": \"../input/volo-package/d3_224_85.4.pth.tar\",\n",
    "    \"volo_d3-448\": \"../input/volo-package/d3_448_86.3.pth.tar\",\n",
    "    \"volo_d4\": \"../input/volo-package/d4_224_85.7.pth.tar\",\n",
    "    \"volo_d4-448\": \"../input/volo-package/d4_448_86.79.pth.tar\",\n",
    "    \"volo_d5\": \"../input/volo-package/d5_224_86.10.pth.tar\",\n",
    "    \"volo_d5-448\": \"../input/volo-package/d5_448_87.0.pth.tar\",\n",
    "    \"volo_d5-512\": \"../input/volo-package/d5_512_87.07.pth.tar\",\n",
    "}\n",
    "\n",
    "class BasicImageModel(nn.Module):\n",
    "    \n",
    "    def __init__(\n",
    "        self, base_name: str, dims_head: tp.List[int],\n",
    "        pretrained=False, in_channels: int=3, image_size: int=224 \n",
    "    ):\n",
    "        \"\"\"Initialize\"\"\"\n",
    "        self.base_name = base_name\n",
    "        super().__init__()\n",
    "        model_name = base_name.split(\"-\")[0]\n",
    "        assert timm.is_model(model_name), \"you can use only models in timm.\"\n",
    "        \n",
    "        if model_name[:4] == \"volo\":\n",
    "            base_model = timm.create_model(\n",
    "                model_name, img_size=image_size,\n",
    "                mix_token=False, return_dense=False, drop_path_rate=0.1)\n",
    "            in_features = base_model.head.in_features\n",
    "            if pretrained:\n",
    "                volo_load_weights(base_model, VOLO_CHECHPOINTS[base_name], strict=False)\n",
    "            \n",
    "            if in_channels != 3:\n",
    "                # # change input channel\n",
    "                # # I follow the manner used in timm.\n",
    "                first_conv = base_model.patch_embed.conv[0]\n",
    "                w_t = first_conv.weight.data  # shape: (out_ch, 3, 7, 7)\n",
    "                if in_channels == 1:\n",
    "                    new_w_t = w_t.sum(axis=1, keepdims=True)  # shape: (out_ch, 1, 7, 7)\n",
    "                else:\n",
    "                    n_repeats = (in_channels + 3 - 1) // 3\n",
    "                    new_w_t = w_t.repeat((1, n_repeats, 1, 1))\n",
    "                    new_w_t = new_w_t[:, :in_channels]\n",
    "                    new_w_t = new_w_t * 3 / in_channels  # shape: (out_ch, in_channels, 7, 7)\n",
    "\n",
    "                first_conv.weight.data = new_w_t\n",
    "        else:\n",
    "            base_model = timm.create_model(\n",
    "                base_name, pretrained=pretrained, in_chans=in_channels)\n",
    "            in_features = base_model.num_features\n",
    "            print(\"load imagenet pretrained:\", pretrained)\n",
    "            \n",
    "        base_model.reset_classifier(num_classes=0)\n",
    "        self.backbone = base_model\n",
    "        print(f\"{base_name}: {in_features}\")\n",
    "        \n",
    "        # # prepare head clasifier\n",
    "        if dims_head[0] is None:\n",
    "            dims_head[0] = in_features\n",
    "\n",
    "        layers_list = []\n",
    "        for i in range(len(dims_head) - 2):\n",
    "            in_dim, out_dim = dims_head[i: i + 2]\n",
    "            layers_list.extend([\n",
    "                nn.Linear(in_dim, out_dim),\n",
    "                nn.ReLU(), nn.Dropout(0.5),])\n",
    "        layers_list.append(\n",
    "            nn.Linear(dims_head[-2], dims_head[-1]))\n",
    "        self.head = nn.Sequential(*layers_list)\n",
    "\n",
    "    def forward(self, x):\n",
    "        \"\"\"Forward\"\"\"\n",
    "        h = self.backbone(x)\n",
    "        h = self.head(h)\n",
    "        return h"
   ]
  },
  {
   "cell_type": "markdown",
   "id": "native-forest",
   "metadata": {
    "execution": {
     "iopub.execute_input": "2021-06-03T00:39:25.885782Z",
     "iopub.status.busy": "2021-06-03T00:39:25.885443Z",
     "iopub.status.idle": "2021-06-03T00:39:25.904695Z",
     "shell.execute_reply": "2021-06-03T00:39:25.903901Z",
     "shell.execute_reply.started": "2021-06-03T00:39:25.885753Z"
    },
    "papermill": {
     "duration": 0.024731,
     "end_time": "2021-07-15T12:50:13.029054",
     "exception": false,
     "start_time": "2021-07-15T12:50:13.004323",
     "status": "completed"
    },
    "tags": []
   },
   "source": [
    "### Dataset"
   ]
  },
  {
   "cell_type": "code",
   "execution_count": 8,
   "id": "lesbian-narrow",
   "metadata": {
    "_kg_hide-input": true,
    "execution": {
     "iopub.execute_input": "2021-07-15T12:50:13.092585Z",
     "iopub.status.busy": "2021-07-15T12:50:13.091808Z",
     "iopub.status.idle": "2021-07-15T12:50:13.094587Z",
     "shell.execute_reply": "2021-07-15T12:50:13.094128Z",
     "shell.execute_reply.started": "2021-07-15T12:24:41.844160Z"
    },
    "papermill": {
     "duration": 0.039606,
     "end_time": "2021-07-15T12:50:13.094691",
     "exception": false,
     "start_time": "2021-07-15T12:50:13.055085",
     "status": "completed"
    },
    "tags": []
   },
   "outputs": [],
   "source": [
    "FilePath = tp.Union[str, Path]\n",
    "Label = tp.Union[int, float, np.ndarray]\n",
    "\n",
    "\n",
    "class SetiSimpleDataset(torch.utils.data.Dataset):\n",
    "    \"\"\"\n",
    "    Dataset using 6 channels by stacking them along time-axis\n",
    "\n",
    "    Attributes\n",
    "    ----------\n",
    "    paths : tp.Sequence[FilePath]\n",
    "        Sequence of path to cadence snippet file\n",
    "    labels : tp.Sequence[Label]\n",
    "        Sequence of label for cadence snippet file\n",
    "    transform: albumentations.Compose\n",
    "        composed data augmentations for data\n",
    "    \"\"\"\n",
    "\n",
    "    def __init__(\n",
    "        self,\n",
    "        paths: tp.Sequence[FilePath],\n",
    "        labels: tp.Sequence[Label],\n",
    "        transform: A.Compose,\n",
    "    ):\n",
    "        \"\"\"Initialize\"\"\"\n",
    "        self.paths = paths\n",
    "        self.labels = labels\n",
    "        self.transform = transform\n",
    "\n",
    "    def __len__(self):\n",
    "        \"\"\"Return num of cadence snippets\"\"\"\n",
    "        return len(self.paths)\n",
    "\n",
    "    def __getitem__(self, index: int):\n",
    "        \"\"\"Return transformed image and label for given index.\"\"\"\n",
    "        path, label = self.paths[index], self.labels[index]\n",
    "        img = self._read_cadence_array(path)\n",
    "        img = self.transform(image=img)[\"image\"]\n",
    "        return {\"image\": img, \"target\": label}\n",
    "\n",
    "    def _read_cadence_array(self, path: Path):\n",
    "        \"\"\"Read cadence file and reshape\"\"\"\n",
    "        img = np.load(path)  # shape: (6, 273, 256)\n",
    "        img = np.vstack(img)  # shape: (1638, 256)\n",
    "        img = img.transpose(1, 0)  # shape: (256, 1638)\n",
    "        img = img.astype(\"f\")[..., np.newaxis]  # shape: (256, 1638, 1)\n",
    "        return img\n",
    "\n",
    "    def lazy_init(self, paths=None, labels=None, transform=None):\n",
    "        \"\"\"Reset Members\"\"\"\n",
    "        if paths is not None:\n",
    "            self.paths = paths\n",
    "        if labels is not None:\n",
    "            self.labels = labels\n",
    "        if transform is not None:\n",
    "            self.transform = transform\n",
    "\n",
    "\n",
    "class SetiAObsDataset(SetiSimpleDataset):\n",
    "    \"\"\"Use only on-target observation\"\"\"\n",
    "\n",
    "    def _read_cadence_array(self, path: Path):\n",
    "        \"\"\"Read cadence file and reshape\"\"\"\n",
    "        img = np.load(path)[[0, 2, 4]]  # shape: (3, 273, 256)\n",
    "        img = np.vstack(img)  # shape: (819, 256)\n",
    "        img = img.transpose(1, 0)  # shape: (256, 819)\n",
    "        img = img.astype(\"f\")[..., np.newaxis]  # shape: (256, 819, 1)\n",
    "        return img"
   ]
  },
  {
   "cell_type": "markdown",
   "id": "pursuant-indicator",
   "metadata": {
    "papermill": {
     "duration": 0.024825,
     "end_time": "2021-07-15T12:50:13.144340",
     "exception": false,
     "start_time": "2021-07-15T12:50:13.119515",
     "status": "completed"
    },
    "tags": []
   },
   "source": [
    "### Metric"
   ]
  },
  {
   "cell_type": "code",
   "execution_count": 9,
   "id": "yellow-institution",
   "metadata": {
    "_kg_hide-input": true,
    "execution": {
     "iopub.execute_input": "2021-07-15T12:50:13.212516Z",
     "iopub.status.busy": "2021-07-15T12:50:13.211734Z",
     "iopub.status.idle": "2021-07-15T12:50:13.214491Z",
     "shell.execute_reply": "2021-07-15T12:50:13.214009Z",
     "shell.execute_reply.started": "2021-07-15T12:24:41.862981Z"
    },
    "papermill": {
     "duration": 0.045239,
     "end_time": "2021-07-15T12:50:13.214592",
     "exception": false,
     "start_time": "2021-07-15T12:50:13.169353",
     "status": "completed"
    },
    "tags": []
   },
   "outputs": [],
   "source": [
    "Batch = tp.Union[tp.Tuple[torch.Tensor], tp.Dict[str, torch.Tensor]]\n",
    "ModelOut = tp.Union[tp.Tuple[torch.Tensor], tp.Dict[str, torch.Tensor], torch.Tensor]\n",
    "\n",
    "\n",
    "class ROCAUC(nn.Module):\n",
    "    \"\"\"ROC AUC score\"\"\"\n",
    "\n",
    "    def __init__(self, average=\"macro\") -> None:\n",
    "        \"\"\"Initialize.\"\"\"\n",
    "        self.average = average\n",
    "        super(ROCAUC, self).__init__()\n",
    "\n",
    "    def forward(self, y, t) -> float:\n",
    "        \"\"\"Forward.\"\"\"\n",
    "        if isinstance(y, torch.Tensor):\n",
    "            y = y.detach().cpu().numpy()\n",
    "        if isinstance(t, torch.Tensor):\n",
    "            t = t.detach().cpu().numpy()\n",
    "\n",
    "        return roc_auc_score(t, y, average=self.average)\n",
    "\n",
    "\n",
    "def micro_average(\n",
    "    metric_func: nn.Module,\n",
    "    report_name: str, prefix=\"val\",\n",
    "    pred_index: int=-1, label_index: int=-1,\n",
    "    pred_key: str=\"logit\", label_key: str=\"target\",\n",
    ") -> tp.Callable:\n",
    "    \"\"\"Return Metric Wrapper for Simple Mean Metric\"\"\"\n",
    "    metric_sum = [0.]\n",
    "    n_examples = [0]\n",
    "    \n",
    "    def wrapper(batch: Batch, model_output: ModelOut, is_last_batch: bool):\n",
    "        \"\"\"Wrapping metric function for evaluation\"\"\"\n",
    "        if isinstance(batch, tuple): \n",
    "            t = batch[label_index]\n",
    "        elif isinstance(batch, dict):\n",
    "            t = batch[label_key]\n",
    "        else:\n",
    "            raise NotImplementedError\n",
    "\n",
    "        if isinstance(model_output, tuple):\n",
    "            y = model_output[pred_index]\n",
    "        elif isinstance(model_output, dict):\n",
    "            y = model_output[pred_key]\n",
    "        else:\n",
    "            y = model_output\n",
    "\n",
    "        metric = metric_func(y, t).item()\n",
    "        metric_sum[0] += metric * y.shape[0]\n",
    "        n_examples[0] += y.shape[0]\n",
    "\n",
    "        if is_last_batch:\n",
    "            final_metric = metric_sum[0] / n_examples[0]\n",
    "            ppe.reporting.report({f\"{prefix}/{report_name}\": final_metric})\n",
    "            # # reset state\n",
    "            metric_sum[0] = 0.\n",
    "            n_examples[0] = 0\n",
    "\n",
    "    return wrapper\n",
    "\n",
    "\n",
    "def calc_across_all_batchs(\n",
    "    metric_func: nn.Module,\n",
    "    report_name: str, prefix=\"val\",\n",
    "    pred_index: int=-1, label_index: int=-1,\n",
    "    pred_key: str=\"logit\", label_key: str=\"target\",\n",
    ") -> tp.Callable:\n",
    "    \"\"\"\n",
    "    Return Metric Wrapper for Metrics caluculated on all data\n",
    "    \n",
    "    storing predictions and labels of evry batch, finally calculating metric on them.\n",
    "    \"\"\"\n",
    "    pred_list = []\n",
    "    label_list = []\n",
    "    \n",
    "    def wrapper(batch: Batch, model_output: ModelOut, is_last_batch: bool):\n",
    "        \"\"\"Wrapping metric function for evaluation\"\"\"\n",
    "        if isinstance(batch, tuple):\n",
    "            t = batch[label_index]\n",
    "        elif isinstance(batch, dict):\n",
    "            t = batch[label_key]\n",
    "        else:\n",
    "            raise NotImplementedError\n",
    "\n",
    "        if isinstance(model_output, tuple):\n",
    "            y = model_output[pred_index]\n",
    "        elif isinstance(model_output, dict):\n",
    "            y = model_output[pred_key]\n",
    "        else:\n",
    "            y = model_output\n",
    "\n",
    "        pred_list.append(y.numpy())\n",
    "        label_list.append(t.numpy())\n",
    "\n",
    "        if is_last_batch:\n",
    "            pred = np.concatenate(pred_list, axis=0)\n",
    "            label = np.concatenate(label_list, axis=0)\n",
    "            final_metric = metric_func(pred, label)\n",
    "            ppe.reporting.report({f\"{prefix}/{report_name}\": final_metric})\n",
    "            # # reset state\n",
    "            pred_list[:] = []\n",
    "            label_list[:] = []\n",
    "\n",
    "    return wrapper"
   ]
  },
  {
   "cell_type": "markdown",
   "id": "human-outside",
   "metadata": {
    "papermill": {
     "duration": 0.024656,
     "end_time": "2021-07-15T12:50:13.264115",
     "exception": false,
     "start_time": "2021-07-15T12:50:13.239459",
     "status": "completed"
    },
    "tags": []
   },
   "source": [
    "# Train"
   ]
  },
  {
   "cell_type": "markdown",
   "id": "turkish-client",
   "metadata": {
    "papermill": {
     "duration": 0.024561,
     "end_time": "2021-07-15T12:50:13.313591",
     "exception": false,
     "start_time": "2021-07-15T12:50:13.289030",
     "status": "completed"
    },
    "tags": []
   },
   "source": [
    "## config_types for evaluating configuration\n",
    "\n",
    "I use [pytorch-pfn-extras](https://github.com/pfnet/pytorch-pfn-extras) for training NNs. This library has useful config systems but requires some preparation.\n",
    "\n",
    "For more details, see [docs](https://github.com/pfnet/pytorch-pfn-extras/blob/master/docs/config.md)."
   ]
  },
  {
   "cell_type": "code",
   "execution_count": 10,
   "id": "popular-allen",
   "metadata": {
    "_kg_hide-input": true,
    "execution": {
     "iopub.execute_input": "2021-07-15T12:50:13.372206Z",
     "iopub.status.busy": "2021-07-15T12:50:13.370970Z",
     "iopub.status.idle": "2021-07-15T12:50:13.373196Z",
     "shell.execute_reply": "2021-07-15T12:50:13.373627Z",
     "shell.execute_reply.started": "2021-07-15T12:24:41.888429Z"
    },
    "papermill": {
     "duration": 0.035198,
     "end_time": "2021-07-15T12:50:13.373742",
     "exception": false,
     "start_time": "2021-07-15T12:50:13.338544",
     "status": "completed"
    },
    "tags": []
   },
   "outputs": [],
   "source": [
    "CONFIG_TYPES = {\n",
    "    # # utils\n",
    "    \"__len__\": lambda obj: len(obj),\n",
    "    \"method_call\": lambda obj, method: getattr(obj, method)(),\n",
    "\n",
    "    # # Dataset, DataLoader\n",
    "    \"SetiSimpleDataset\": SetiSimpleDataset,\n",
    "    \"SetiAObsDataset\": SetiAObsDataset,\n",
    "    \"DataLoader\": torch.utils.data.DataLoader,\n",
    "\n",
    "    # # Data Augmentation\n",
    "    \"Compose\": A.Compose, \"OneOf\": A.OneOf,\n",
    "    \"Resize\": A.Resize,\n",
    "    \"HorizontalFlip\": A.HorizontalFlip, \"VerticalFlip\": A.VerticalFlip,\n",
    "    \"ShiftScaleRotate\": A.ShiftScaleRotate,\n",
    "    \"RandomResizedCrop\": A.RandomResizedCrop,\n",
    "    \"Cutout\": A.Cutout,\n",
    "    \"ToTensorV2\": ToTensorV2,\n",
    "\n",
    "    # # Model\n",
    "    \"BasicImageModel\": BasicImageModel,\n",
    "\n",
    "    # # Optimizer\n",
    "    \"AdamW\": optim.AdamW,\n",
    "\n",
    "    # # Scheduler\n",
    "    \"OneCycleLR\": lr_scheduler.OneCycleLR,\n",
    "\n",
    "    # # Loss,Metric\n",
    "    \"BCEWithLogitsLoss\": nn.BCEWithLogitsLoss,\n",
    "    \"ROCAUC\": ROCAUC,\n",
    "\n",
    "    # # Metric Wrapper\n",
    "    \"micro_average\": micro_average,\n",
    "    \"calc_across_all_batchs\": calc_across_all_batchs,\n",
    "\n",
    "    # # PPE Extensions\n",
    "    \"ExtensionsManager\": ppe.training.ExtensionsManager,\n",
    "\n",
    "    \"observe_lr\": ppe_exts.observe_lr,\n",
    "    \"LogReport\": ppe_exts.LogReport,\n",
    "    \"PlotReport\": ppe_exts.PlotReport,\n",
    "    \"PrintReport\": ppe_exts.PrintReport,\n",
    "    \"PrintReportNotebook\": ppe_exts.PrintReportNotebook,\n",
    "    \"ProgressBar\": ppe_exts.ProgressBar,\n",
    "    \"ProgressBarNotebook\": ppe_exts.ProgressBarNotebook,\n",
    "    \"snapshot\": ppe_exts.snapshot,\n",
    "    \"LRScheduler\": ppe_exts.LRScheduler, \n",
    "\n",
    "    \"MinValueTrigger\": ppe_triggers.MinValueTrigger,\n",
    "    \"MaxValueTrigger\": ppe_triggers.MaxValueTrigger,\n",
    "    \"EarlyStoppingTrigger\": ppe_triggers.EarlyStoppingTrigger,\n",
    "}"
   ]
  },
  {
   "cell_type": "markdown",
   "id": "arranged-investigator",
   "metadata": {
    "papermill": {
     "duration": 0.024582,
     "end_time": "2021-07-15T12:50:13.423017",
     "exception": false,
     "start_time": "2021-07-15T12:50:13.398435",
     "status": "completed"
    },
    "tags": []
   },
   "source": [
    "## configration"
   ]
  },
  {
   "cell_type": "code",
   "execution_count": 11,
   "id": "romantic-productivity",
   "metadata": {
    "execution": {
     "iopub.execute_input": "2021-07-15T12:50:13.501873Z",
     "iopub.status.busy": "2021-07-15T12:50:13.498179Z",
     "iopub.status.idle": "2021-07-15T12:50:13.504325Z",
     "shell.execute_reply": "2021-07-15T12:50:13.503913Z",
     "shell.execute_reply.started": "2021-07-15T12:24:41.902194Z"
    },
    "papermill": {
     "duration": 0.056523,
     "end_time": "2021-07-15T12:50:13.504430",
     "exception": false,
     "start_time": "2021-07-15T12:50:13.447907",
     "status": "completed"
    },
    "tags": []
   },
   "outputs": [],
   "source": [
    "pre_eval_cfg = yaml.safe_load(\n",
    "\"\"\"\n",
    "globals:\n",
    "  seed: 1086\n",
    "  val_fold: null  # indicate when training\n",
    "  output_path: null # indicate when training\n",
    "  device: cuda\n",
    "  enable_amp: False\n",
    "  max_epoch: 30\n",
    "\n",
    "model:\n",
    "  type: BasicImageModel\n",
    "  dims_head: [null, 1]\n",
    "  base_name: volo_d1-384\n",
    "  pretrained: True\n",
    "  in_channels: 1\n",
    "  image_size: 256\n",
    "\n",
    "dataset:\n",
    "  height: 256\n",
    "  width: 256\n",
    "  mixup: {enabled: True, alpha: 1.0}\n",
    "  train:\n",
    "    type: SetiAObsDataset\n",
    "    paths: null  # set by lazy_init\n",
    "    labels: null  # set by lazy_init\n",
    "    transform:\n",
    "      type: Compose\n",
    "      transforms:\n",
    "        - {type: Resize, p: 1.0, height: \"@/dataset/height\", width: \"@/dataset/width\"}\n",
    "        - {type: HorizontalFlip, p: 0.5}\n",
    "        - {type: VerticalFlip, p: 0.5}\n",
    "        - {type: ShiftScaleRotate, p: 0.5, shift_limit: 0.2, scale_limit: 0.2,\n",
    "            rotate_limit: 20, border_mode: 0, value: 0, mask_value: 0}\n",
    "        - {type: RandomResizedCrop, p: 1.0,\n",
    "            scale: [0.9, 1.0], height: \"@/dataset/height\", width: \"@/dataset/width\"}\n",
    "        - {type: ToTensorV2, always_apply: True}\n",
    "  val:\n",
    "    type: SetiAObsDataset\n",
    "    paths: null  # set by lazy_init\n",
    "    labels: null  # set by lazy_init\n",
    "    transform:\n",
    "      type: Compose\n",
    "      transforms:\n",
    "        - {type: Resize, p: 1.0, height: \"@/dataset/height\", width: \"@/dataset/width\"}\n",
    "        - {type: ToTensorV2, always_apply: True}  \n",
    "  test:\n",
    "    type: SetiAObsDataset\n",
    "    paths: null  # set by lazy_init\n",
    "    labels: null  # set by lazy_init\n",
    "    transform: \"@/dataset/val/transform\"\n",
    "\n",
    "loader:\n",
    "  train: {type: DataLoader, dataset: \"@/dataset/train\",\n",
    "    batch_size: 32, num_workers: 4, shuffle: True, pin_memory: True, drop_last: True}\n",
    "  val: {type: DataLoader, dataset: \"@/dataset/val\",\n",
    "    batch_size: 64, num_workers: 4, shuffle: False, pin_memory: True, drop_last: False}\n",
    "  test: {type: DataLoader, dataset: \"@/dataset/test\",\n",
    "    batch_size: 64, num_workers: 4, shuffle: False, pin_memory: True, drop_last: False}\n",
    "\n",
    "optimizer:\n",
    "  type: AdamW\n",
    "  params: {type: method_call, obj: \"@/model\", method: parameters}\n",
    "  lr: 1.0e-07\n",
    "  weight_decay: 5.0e-02\n",
    "\n",
    "scheduler:\n",
    "  type: OneCycleLR\n",
    "  optimizer: \"@/optimizer\"\n",
    "  epochs: \"@/globals/max_epoch\"\n",
    "  steps_per_epoch: {type: __len__, obj: \"@/loader/train\"}\n",
    "  max_lr: 5.0e-5\n",
    "  pct_start: 0.1\n",
    "  anneal_strategy: cos\n",
    "  div_factor: 1.0e+2\n",
    "  final_div_factor: 1\n",
    "\n",
    "loss: {type: BCEWithLogitsLoss}\n",
    "\n",
    "eval:\n",
    "  - type: micro_average\n",
    "    metric_func: {type: BCEWithLogitsLoss}\n",
    "    report_name: loss\n",
    "  - type: calc_across_all_batchs\n",
    "    metric_func: {type: ROCAUC}\n",
    "    report_name: metric\n",
    "\n",
    "manager:\n",
    "  type: ExtensionsManager\n",
    "  models: \"@/model\"\n",
    "  optimizers: \"@/optimizer\"\n",
    "  max_epochs: \"@/globals/max_epoch\"\n",
    "  iters_per_epoch: {type: __len__, obj: \"@/loader/train\"}\n",
    "  out_dir: \"@/globals/output_path\"\n",
    "  # stop_trgiger: {type: EarlyStoppingTrigger,\n",
    "  #   monitor: val/metric, mode: max, patience: 5, verbose: True,\n",
    "  #   check_trigger: [1, epoch], max_trigger: [\"@/globals/max_epoch\", epoch]}\n",
    "\n",
    "extensions:\n",
    "  # # log\n",
    "  - {type: observe_lr, optimizer: \"@/optimizer\"}\n",
    "  - {type: LogReport}\n",
    "  - {type: PlotReport, y_keys: lr, x_key: epoch, filename: lr.png}\n",
    "  - {type: PlotReport, y_keys: [train/loss, val/loss], x_key: epoch, filename: loss.png}\n",
    "  - {type: PlotReport, y_keys: val/metric, x_key: epoch, filename: metric.png}\n",
    "  - {type: PrintReport, entries: [\n",
    "      epoch, iteration, lr, train/loss, val/loss, val/metric, elapsed_time]}\n",
    "  - {type: ProgressBarNotebook, update_interval: 20}\n",
    "  # snapshot\n",
    "  - extension: {type: snapshot, target: \"@/model\", filename: \"snapshot_by_metric_epoch_{.epoch}.pth\"}\n",
    "    trigger: {type: MaxValueTrigger, key: \"val/metric\", trigger: [1, epoch]}\n",
    "  # # lr scheduler\n",
    "  - {type: LRScheduler, scheduler: \"@/scheduler\", trigger: [1,  iteration]}\n",
    "\"\"\"\n",
    ")"
   ]
  },
  {
   "cell_type": "markdown",
   "id": "clear-traffic",
   "metadata": {
    "papermill": {
     "duration": 0.024676,
     "end_time": "2021-07-15T12:50:13.554250",
     "exception": false,
     "start_time": "2021-07-15T12:50:13.529574",
     "status": "completed"
    },
    "tags": []
   },
   "source": [
    "## functions for training"
   ]
  },
  {
   "cell_type": "code",
   "execution_count": 12,
   "id": "divine-referral",
   "metadata": {
    "_kg_hide-input": true,
    "execution": {
     "iopub.execute_input": "2021-07-15T12:50:13.612631Z",
     "iopub.status.busy": "2021-07-15T12:50:13.611393Z",
     "iopub.status.idle": "2021-07-15T12:50:13.614205Z",
     "shell.execute_reply": "2021-07-15T12:50:13.613754Z",
     "shell.execute_reply.started": "2021-07-15T12:24:41.939151Z"
    },
    "papermill": {
     "duration": 0.035197,
     "end_time": "2021-07-15T12:50:13.614308",
     "exception": false,
     "start_time": "2021-07-15T12:50:13.579111",
     "status": "completed"
    },
    "tags": []
   },
   "outputs": [],
   "source": [
    "def set_random_seed(seed: int = 42, deterministic: bool = False):\n",
    "    \"\"\"Set seeds\"\"\"\n",
    "    random.seed(seed)\n",
    "    np.random.seed(seed)\n",
    "    os.environ[\"PYTHONHASHSEED\"] = str(seed)\n",
    "    torch.manual_seed(seed)\n",
    "    torch.cuda.manual_seed(seed)  # type: ignore\n",
    "    torch.backends.cudnn.deterministic = deterministic  # type: ignore\n",
    "\n",
    "\n",
    "def to_device(\n",
    "    tensors: tp.Union[tp.Tuple[torch.Tensor], tp.Dict[str, torch.Tensor]],\n",
    "    device: torch.device, *args, **kwargs\n",
    "):\n",
    "    if isinstance(tensors, tuple):\n",
    "        return (t.to(device, *args, **kwargs) for t in tensors)\n",
    "    elif isinstance(tensors, dict):\n",
    "        return {\n",
    "            k: t.to(device, *args, **kwargs) for k, t in tensors.items()}\n",
    "    else:\n",
    "        return tensors.to(device, *args, **kwargs)"
   ]
  },
  {
   "cell_type": "code",
   "execution_count": 13,
   "id": "environmental-cholesterol",
   "metadata": {
    "_kg_hide-input": true,
    "execution": {
     "iopub.execute_input": "2021-07-15T12:50:13.677013Z",
     "iopub.status.busy": "2021-07-15T12:50:13.676455Z",
     "iopub.status.idle": "2021-07-15T12:50:13.679712Z",
     "shell.execute_reply": "2021-07-15T12:50:13.680089Z",
     "shell.execute_reply.started": "2021-07-15T12:24:41.952268Z"
    },
    "papermill": {
     "duration": 0.040813,
     "end_time": "2021-07-15T12:50:13.680217",
     "exception": false,
     "start_time": "2021-07-15T12:50:13.639404",
     "status": "completed"
    },
    "tags": []
   },
   "outputs": [],
   "source": [
    "def get_path_label(cfg: Config, train_all: pd.DataFrame):\n",
    "    \"\"\"Get file path and target info.\"\"\"\n",
    "    use_fold = cfg[\"/globals/val_fold\"]\n",
    "\n",
    "    train_df = train_all[train_all[\"fold\"] != use_fold]\n",
    "    val_df = train_all[train_all[\"fold\"] == use_fold]\n",
    "    \n",
    "    train_path_label = {\n",
    "        \"paths\": [TRAIN / f\"{img_id[0]}/{img_id}.npy\" for img_id in train_df[\"id\"].values],\n",
    "        \"labels\": train_df[CLASSES].values.astype(\"f\")}\n",
    "    val_path_label = {\n",
    "        \"paths\": [TRAIN / f\"{img_id[0]}/{img_id}.npy\" for img_id in val_df[\"id\"].values],\n",
    "        \"labels\": val_df[CLASSES].values.astype(\"f\")\n",
    "    }\n",
    "    return train_path_label, val_path_label\n",
    "\n",
    "\n",
    "def get_eval_func(cfg, model, device):\n",
    "    \n",
    "    def eval_func(**batch):\n",
    "        \"\"\"Run evaliation for val or test. This function is applied to each batch.\"\"\"\n",
    "        batch = to_device(batch, device)\n",
    "        x = batch[\"image\"]\n",
    "        model.eval()\n",
    "        with amp.autocast(cfg[\"/globals/enable_amp\"]): \n",
    "            y = model(x)\n",
    "        return y.detach().cpu().to(torch.float32)  # input of metrics\n",
    "\n",
    "    return eval_func\n",
    "\n",
    "\n",
    "def mixup_data(use_mixup, x, t, alpha=1.0, use_cuda=True):\n",
    "    '''Returns mixed inputs, pairs of targets, and lambda'''\n",
    "    if not use_mixup:\n",
    "        return x, t, None, None\n",
    "    \n",
    "    if alpha > 0:\n",
    "        lam = np.random.beta(alpha, alpha)\n",
    "    else:\n",
    "        lam = 1\n",
    "\n",
    "    batch_size = x.size()[0]\n",
    "    if use_cuda:\n",
    "        index = torch.randperm(batch_size).cuda()\n",
    "    else:\n",
    "        index = torch.randperm(batch_size)\n",
    "\n",
    "    mixed_x = lam * x + (1 - lam) * x[index, :]\n",
    "    t_a, t_b = t, t[index]\n",
    "    return mixed_x, t_a, t_b, lam\n",
    "\n",
    "\n",
    "def get_criterion(use_mixup, loss_func):\n",
    "\n",
    "    def mixup_criterion(pred, t_a, t_b, lam):\n",
    "        return lam * loss_func(pred, t_a) + (1 - lam) * loss_func(pred, t_b)\n",
    "\n",
    "    def single_criterion(pred, t_a, t_b, lam):\n",
    "        return loss_func(pred, t_a)\n",
    "    \n",
    "    if use_mixup:\n",
    "        return mixup_criterion\n",
    "    else:\n",
    "        return single_criterion"
   ]
  },
  {
   "cell_type": "code",
   "execution_count": 14,
   "id": "expensive-thumbnail",
   "metadata": {
    "execution": {
     "iopub.execute_input": "2021-07-15T12:50:13.741814Z",
     "iopub.status.busy": "2021-07-15T12:50:13.741039Z",
     "iopub.status.idle": "2021-07-15T12:50:13.743177Z",
     "shell.execute_reply": "2021-07-15T12:50:13.743616Z",
     "shell.execute_reply.started": "2021-07-15T12:24:41.970564Z"
    },
    "papermill": {
     "duration": 0.038525,
     "end_time": "2021-07-15T12:50:13.743731",
     "exception": false,
     "start_time": "2021-07-15T12:50:13.705206",
     "status": "completed"
    },
    "tags": []
   },
   "outputs": [],
   "source": [
    "def train_one_fold(cfg, train_all):\n",
    "    \"\"\"Main\"\"\"\n",
    "    torch.backends.cudnn.benchmark = True\n",
    "    set_random_seed(cfg[\"/globals/seed\"], deterministic=True)\n",
    "    device = torch.device(cfg[\"/globals/device\"])\n",
    "    \n",
    "    train_path_label, val_path_label = get_path_label(cfg, train_all)\n",
    "    print(\"train: {}, val: {}\".format(len(train_path_label[\"paths\"]), len(val_path_label[\"paths\"])))\n",
    "   \n",
    "    cfg[\"/dataset/train\"].lazy_init(**train_path_label)\n",
    "    cfg[\"/dataset/val\"].lazy_init(**val_path_label)\n",
    "    train_loader = cfg[\"/loader/train\"]\n",
    "    val_loader = cfg[\"/loader/val\"]\n",
    "\n",
    "    model = cfg[\"/model\"]\n",
    "    model.to(device)\n",
    "    optimizer = cfg[\"/optimizer\"]\n",
    "    loss_func = cfg[\"/loss\"]\n",
    "    loss_func.to(device)\n",
    "    \n",
    "    manager = cfg[\"/manager\"]\n",
    "    for ext in cfg[\"/extensions\"]:\n",
    "        if isinstance(ext, dict):\n",
    "            manager.extend(**ext)\n",
    "        else:\n",
    "            manager.extend(ext)\n",
    "\n",
    "    evaluator = ppe_exts.Evaluator(\n",
    "        val_loader, model, eval_func=get_eval_func(cfg, model, device),\n",
    "        metrics=cfg[\"/eval\"], progress_bar=False)\n",
    "    manager.extend(evaluator, trigger=(1, \"epoch\"))\n",
    "\n",
    "    use_amp = cfg[\"/globals/enable_amp\"]\n",
    "    scaler = amp.GradScaler(enabled=use_amp)\n",
    "    use_mixup = cfg[\"/dataset/mixup/enabled\"]\n",
    "    mixup_alpha = cfg[\"/dataset/mixup/alpha\"]\n",
    "    \n",
    "    while not manager.stop_trigger:\n",
    "        model.train()\n",
    "        for batch in train_loader:\n",
    "            with manager.run_iteration():\n",
    "                batch = to_device(batch, device)\n",
    "                x, t = batch[\"image\"], batch[\"target\"]\n",
    "                # # for mixup\n",
    "                mixed_x, t_a, t_b, lam = mixup_data(use_mixup, x, t, mixup_alpha)\n",
    "                criterion = get_criterion(use_mixup, loss_func)\n",
    "                \n",
    "                optimizer.zero_grad()\n",
    "                with amp.autocast(use_amp):\n",
    "                    y = model(mixed_x)\n",
    "                    loss = criterion(y, t_a, t_b, lam)\n",
    "                scaler.scale(loss).backward()\n",
    "                scaler.step(optimizer)\n",
    "                scaler.update()\n",
    "                \n",
    "                ppe.reporting.report({'train/loss': loss.item()})"
   ]
  },
  {
   "cell_type": "markdown",
   "id": "opponent-mozambique",
   "metadata": {
    "papermill": {
     "duration": 0.02473,
     "end_time": "2021-07-15T12:50:13.793548",
     "exception": false,
     "start_time": "2021-07-15T12:50:13.768818",
     "status": "completed"
    },
    "tags": []
   },
   "source": [
    "## run train"
   ]
  },
  {
   "cell_type": "code",
   "execution_count": 15,
   "id": "humanitarian-senior",
   "metadata": {
    "execution": {
     "iopub.execute_input": "2021-07-15T12:50:13.848089Z",
     "iopub.status.busy": "2021-07-15T12:50:13.847428Z",
     "iopub.status.idle": "2021-07-15T12:50:13.850120Z",
     "shell.execute_reply": "2021-07-15T12:50:13.849718Z",
     "shell.execute_reply.started": "2021-07-15T12:24:41.989624Z"
    },
    "papermill": {
     "duration": 0.031788,
     "end_time": "2021-07-15T12:50:13.850225",
     "exception": false,
     "start_time": "2021-07-15T12:50:13.818437",
     "status": "completed"
    },
    "tags": []
   },
   "outputs": [],
   "source": [
    "pre_eval_cfg_list = []\n",
    "for fold_id in FOLDS:\n",
    "    tmp_cfg = copy.deepcopy(pre_eval_cfg)\n",
    "    tmp_cfg[\"globals\"][\"val_fold\"] = fold_id\n",
    "    tmp_cfg[\"globals\"][\"output_path\"] = str(TMP / f\"fold{fold_id}\")\n",
    "    pre_eval_cfg_list.append(tmp_cfg)"
   ]
  },
  {
   "cell_type": "code",
   "execution_count": 16,
   "id": "tutorial-ghana",
   "metadata": {
    "execution": {
     "iopub.execute_input": "2021-07-15T12:50:13.905123Z",
     "iopub.status.busy": "2021-07-15T12:50:13.904595Z",
     "iopub.status.idle": "2021-07-15T21:40:49.047154Z",
     "shell.execute_reply": "2021-07-15T21:40:49.047838Z",
     "shell.execute_reply.started": "2021-07-15T12:24:42.002048Z"
    },
    "papermill": {
     "duration": 31835.173875,
     "end_time": "2021-07-15T21:40:49.048985",
     "exception": false,
     "start_time": "2021-07-15T12:50:13.875110",
     "status": "completed"
    },
    "tags": []
   },
   "outputs": [
    {
     "name": "stdout",
     "output_type": "stream",
     "text": [
      "\n",
      "[fold 0]\n",
      "train: 48000, val: 12000\n"
     ]
    },
    {
     "name": "stderr",
     "output_type": "stream",
     "text": [
      "/opt/conda/lib/python3.7/site-packages/torch/nn/functional.py:3063: UserWarning: Default upsampling behavior when mode=bicubic is changed to align_corners=False since 0.4.0. Please specify align_corners=True if the old behavior is desired. See the documentation of nn.Upsample for details.\n",
      "  \"See the documentation of nn.Upsample for details.\".format(mode))\n"
     ]
    },
    {
     "name": "stdout",
     "output_type": "stream",
     "text": [
      "volo_d1-384: 384\n"
     ]
    },
    {
     "data": {
      "application/vnd.jupyter.widget-view+json": {
       "model_id": "995faa669312404fbed3366fbd1f049a",
       "version_major": 2,
       "version_minor": 0
      },
      "text/plain": [
       "VBox(children=(HBox(children=(FloatProgress(value=0.0, bar_style='info', description='total', max=1.0), HTML(v…"
      ]
     },
     "metadata": {},
     "output_type": "display_data"
    },
    {
     "name": "stdout",
     "output_type": "stream",
     "text": [
      "epoch       iteration   lr          train/loss  val/loss    val/metric  elapsed_time\n",
      "\u001b[J1           1500        1.2865e-05  0.360912    0.316797    0.634032    1065.37       \n",
      "\u001b[J2           3000        3.762e-05   0.314555    0.283403    0.718188    2131.71       \n",
      "\u001b[J3           4500        5e-05       0.305445    0.276017    0.75206     3189.52       \n",
      "\u001b[J4           6000        4.98326e-05  0.297198    0.244955    0.789082    4252.76       \n",
      "\u001b[J5           7500        4.93329e-05  0.292561    0.258908    0.786717    5313.41       \n",
      "\u001b[J6           9000        4.85074e-05  0.288695    0.262119    0.785772    6373.36       \n",
      "\u001b[J7           10500       4.73674e-05  0.287899    0.233366    0.797619    7435.83       \n",
      "\u001b[J8           12000       4.59283e-05  0.28585     0.232195    0.796918    8493.83       \n",
      "\u001b[J9           13500       4.42096e-05  0.283181    0.226349    0.816761    9558.45       \n",
      "\u001b[J10          15000       4.22345e-05  0.281879    0.234935    0.810937    10620         \n",
      "\u001b[J11          16500       4.00297e-05  0.279403    0.224159    0.814045    11679.5       \n",
      "\u001b[J12          18000       3.7625e-05  0.277592    0.219942    0.810534    12739.3       \n",
      "\u001b[J13          19500       3.5053e-05  0.277978    0.226441    0.814445    13822.1       \n",
      "\u001b[J14          21000       3.23484e-05  0.275993    0.217052    0.824838    14886.5       \n",
      "\u001b[J15          22500       2.95478e-05  0.274734    0.21483     0.83049     15947.3       \n",
      "\u001b[J16          24000       2.66891e-05  0.271283    0.217103    0.828196    17005.9       \n",
      "\u001b[J17          25500       2.38109e-05  0.269994    0.211115    0.832723    18063.8       \n",
      "\u001b[J18          27000       2.09522e-05  0.269412    0.211534    0.836224    19122.8       \n",
      "\u001b[J19          28500       1.81516e-05  0.267873    0.205459    0.839635    20180.7       \n",
      "\u001b[J20          30000       1.5447e-05  0.267432    0.20987     0.84066     21238.8       \n",
      "\u001b[J21          31500       1.2875e-05  0.266956    0.207924    0.845127    22296.3       \n",
      "\u001b[J22          33000       1.04703e-05  0.264159    0.206172    0.845771    23353.6       \n",
      "\u001b[J23          34500       8.26552e-06  0.264407    0.207169    0.842892    24411.4       \n",
      "\u001b[J24          36000       6.2904e-06  0.263671    0.202292    0.845943    25470.2       \n",
      "\u001b[J25          37500       4.57168e-06  0.261928    0.203732    0.84699     26528.7       \n",
      "\u001b[J26          39000       3.13259e-06  0.263219    0.199639    0.848785    27587.4       \n",
      "\u001b[J27          40500       1.99261e-06  0.262115    0.198027    0.849777    28645.7       \n",
      "\u001b[J28          42000       1.16714e-06  0.26094     0.19954     0.849636    29704.9       \n",
      "\u001b[J29          43500       6.67351e-07  0.260309    0.1987      0.849692    30764.5       \n",
      "\u001b[J30          45000       5e-07       0.259779    0.198038    0.850143    31824.4       \n"
     ]
    }
   ],
   "source": [
    "for pre_eval_cfg in pre_eval_cfg_list:\n",
    "    cfg = Config(pre_eval_cfg, types=CONFIG_TYPES)\n",
    "    print(f\"\\n[fold {cfg['/globals/val_fold']}]\")\n",
    "    train_one_fold(cfg, train)\n",
    "    del cfg\n",
    "    torch.cuda.empty_cache()\n",
    "    gc.collect()"
   ]
  },
  {
   "cell_type": "markdown",
   "id": "sudden-blackberry",
   "metadata": {
    "papermill": {
     "duration": 0.054859,
     "end_time": "2021-07-15T21:40:49.169678",
     "exception": false,
     "start_time": "2021-07-15T21:40:49.114819",
     "status": "completed"
    },
    "tags": []
   },
   "source": [
    "# Inference"
   ]
  },
  {
   "cell_type": "markdown",
   "id": "lightweight-flooring",
   "metadata": {
    "papermill": {
     "duration": 0.055917,
     "end_time": "2021-07-15T21:40:49.281694",
     "exception": false,
     "start_time": "2021-07-15T21:40:49.225777",
     "status": "completed"
    },
    "tags": []
   },
   "source": [
    "## Copy best models"
   ]
  },
  {
   "cell_type": "code",
   "execution_count": 17,
   "id": "stopped-handling",
   "metadata": {
    "execution": {
     "iopub.execute_input": "2021-07-15T21:40:49.407393Z",
     "iopub.status.busy": "2021-07-15T21:40:49.406588Z",
     "iopub.status.idle": "2021-07-15T21:40:50.584716Z",
     "shell.execute_reply": "2021-07-15T21:40:50.583911Z",
     "shell.execute_reply.started": "2021-07-15T12:42:36.321507Z"
    },
    "papermill": {
     "duration": 1.248008,
     "end_time": "2021-07-15T21:40:50.584860",
     "exception": false,
     "start_time": "2021-07-15T21:40:49.336852",
     "status": "completed"
    },
    "tags": []
   },
   "outputs": [
    {
     "data": {
      "text/html": [
       "<div>\n",
       "<style scoped>\n",
       "    .dataframe tbody tr th:only-of-type {\n",
       "        vertical-align: middle;\n",
       "    }\n",
       "\n",
       "    .dataframe tbody tr th {\n",
       "        vertical-align: top;\n",
       "    }\n",
       "\n",
       "    .dataframe thead th {\n",
       "        text-align: right;\n",
       "    }\n",
       "</style>\n",
       "<table border=\"1\" class=\"dataframe\">\n",
       "  <thead>\n",
       "    <tr style=\"text-align: right;\">\n",
       "      <th></th>\n",
       "      <th>train/loss</th>\n",
       "      <th>lr</th>\n",
       "      <th>val/loss</th>\n",
       "      <th>val/metric</th>\n",
       "      <th>epoch</th>\n",
       "      <th>iteration</th>\n",
       "      <th>elapsed_time</th>\n",
       "    </tr>\n",
       "  </thead>\n",
       "  <tbody>\n",
       "    <tr>\n",
       "      <th>0</th>\n",
       "      <td>0.259779</td>\n",
       "      <td>5.000000e-07</td>\n",
       "      <td>0.198038</td>\n",
       "      <td>0.850143</td>\n",
       "      <td>30</td>\n",
       "      <td>45000</td>\n",
       "      <td>31824.433136</td>\n",
       "    </tr>\n",
       "  </tbody>\n",
       "</table>\n",
       "</div>"
      ],
      "text/plain": [
       "   train/loss            lr  val/loss  val/metric  epoch  iteration  \\\n",
       "0    0.259779  5.000000e-07  0.198038    0.850143     30      45000   \n",
       "\n",
       "   elapsed_time  \n",
       "0  31824.433136  "
      ]
     },
     "execution_count": 17,
     "metadata": {},
     "output_type": "execute_result"
    }
   ],
   "source": [
    "best_log_list = []\n",
    "for pre_eval_cfg, fold_id in zip(pre_eval_cfg_list, FOLDS):\n",
    "    exp_dir_path = TMP / f\"fold{fold_id}\"\n",
    "    log = pd.read_json(exp_dir_path / \"log\")\n",
    "    best_log = log.iloc[[log[\"val/metric\"].idxmax()],]\n",
    "    best_epoch = best_log.epoch.values[0]\n",
    "    best_log_list.append(best_log)\n",
    "    \n",
    "    best_model_path = exp_dir_path / f\"snapshot_by_metric_epoch_{best_epoch}.pth\"\n",
    "    copy_to = f\"./best_metric_model_fold{fold_id}.pth\"\n",
    "    shutil.copy(best_model_path, copy_to)\n",
    "    \n",
    "    for p in exp_dir_path.glob(\"*.pth\"):\n",
    "        p.unlink()\n",
    "    \n",
    "    shutil.copytree(exp_dir_path, f\"./fold{fold_id}\")\n",
    "    \n",
    "    with open(f\"./fold{fold_id}/config.yml\", \"w\") as fw:\n",
    "        yaml.dump(pre_eval_cfg, fw)\n",
    "    \n",
    "pd.concat(best_log_list, axis=0, ignore_index=True)"
   ]
  },
  {
   "cell_type": "markdown",
   "id": "fitting-length",
   "metadata": {
    "papermill": {
     "duration": 0.034677,
     "end_time": "2021-07-15T21:40:50.654408",
     "exception": false,
     "start_time": "2021-07-15T21:40:50.619731",
     "status": "completed"
    },
    "tags": []
   },
   "source": [
    "## Inference OOF & Test"
   ]
  },
  {
   "cell_type": "code",
   "execution_count": 18,
   "id": "reserved-effort",
   "metadata": {
    "_kg_hide-input": true,
    "execution": {
     "iopub.execute_input": "2021-07-15T21:40:50.729029Z",
     "iopub.status.busy": "2021-07-15T21:40:50.727726Z",
     "iopub.status.idle": "2021-07-15T21:40:50.730119Z",
     "shell.execute_reply": "2021-07-15T21:40:50.730492Z",
     "shell.execute_reply.started": "2021-07-15T12:42:37.357067Z"
    },
    "papermill": {
     "duration": 0.0416,
     "end_time": "2021-07-15T21:40:50.730625",
     "exception": false,
     "start_time": "2021-07-15T21:40:50.689025",
     "status": "completed"
    },
    "tags": []
   },
   "outputs": [],
   "source": [
    "# def run_inference_loop(cfg, model, loader, device):\n",
    "#     model.to(device)\n",
    "#     model.eval()\n",
    "#     pred_list = []\n",
    "#     with torch.no_grad():\n",
    "#         for batch in tqdm(loader):\n",
    "#             x = to_device(batch[\"image\"], device)\n",
    "#             y = model(x)\n",
    "#             pred_list.append(y.sigmoid().detach().cpu().numpy())\n",
    "        \n",
    "#     pred_arr = np.concatenate(pred_list)\n",
    "#     del pred_list\n",
    "#     return pred_arr"
   ]
  },
  {
   "cell_type": "code",
   "execution_count": 19,
   "id": "humanitarian-pipeline",
   "metadata": {
    "execution": {
     "iopub.execute_input": "2021-07-15T21:40:50.804831Z",
     "iopub.status.busy": "2021-07-15T21:40:50.803504Z",
     "iopub.status.idle": "2021-07-15T21:40:50.805945Z",
     "shell.execute_reply": "2021-07-15T21:40:50.806342Z",
     "shell.execute_reply.started": "2021-07-15T12:42:37.363277Z"
    },
    "papermill": {
     "duration": 0.041469,
     "end_time": "2021-07-15T21:40:50.806468",
     "exception": false,
     "start_time": "2021-07-15T21:40:50.764999",
     "status": "completed"
    },
    "tags": []
   },
   "outputs": [],
   "source": [
    "# label_arr = train[CLASSES].values\n",
    "# oof_pred_arr = np.zeros((len(train), N_CLASSES))\n",
    "# score_list = []\n",
    "# test_pred_arr = np.zeros((N_FOLDS, len(smpl_sub), N_CLASSES))\n",
    "# test_path_label = {\n",
    "#     \"paths\": [DATA / f\"test/{img_id[0]}/{img_id}.npy\" for img_id in smpl_sub[\"id\"].values],\n",
    "#     \"labels\": smpl_sub[CLASSES].values.astype(\"f\")\n",
    "# }\n",
    "\n",
    "# for fold_id in range(N_FOLDS):\n",
    "#     print(f\"\\n[fold {fold_id}]\")\n",
    "#     tmp_dir = Path(f\"./fold{fold_id}\")\n",
    "#     with open(tmp_dir / \"config.yml\", \"r\") as fr:\n",
    "#         cfg = Config(yaml.safe_load(fr), types=CONFIG_TYPES)\n",
    "#     device = torch.device(cfg[\"/globals/device\"])\n",
    "#     val_idx = train.query(\"fold == @fold_id\").index.values\n",
    "\n",
    "#     # # get_dataloader\n",
    "#     _, val_path_label = get_path_label(cfg, train)\n",
    "#     cfg[\"/dataset/val\"].lazy_init(**val_path_label)\n",
    "#     cfg[\"/dataset/test\"].lazy_init(**test_path_label)\n",
    "#     val_loader = cfg[\"/loader/val\"]\n",
    "#     test_loader = cfg[\"/loader/test\"]\n",
    "    \n",
    "#     # # get model\n",
    "#     model_path = f\"./best_metric_model_fold{fold_id}.pth\"\n",
    "#     model = cfg[\"/model\"]\n",
    "#     model.load_state_dict(torch.load(model_path, map_location=device))\n",
    "    \n",
    "#     # # inference\n",
    "#     val_pred = run_inference_loop(cfg, model, val_loader, device)\n",
    "#     val_score = roc_auc_score(label_arr[val_idx], val_pred)\n",
    "#     oof_pred_arr[val_idx] = val_pred\n",
    "#     score_list.append([fold_id, val_score])\n",
    "    \n",
    "#     test_pred_arr[fold_id] = run_inference_loop(cfg, model, test_loader, device)\n",
    "    \n",
    "#     del cfg, val_idx, val_path_label\n",
    "#     del model, val_loader, test_loader\n",
    "#     torch.cuda.empty_cache()\n",
    "#     gc.collect()\n",
    "    \n",
    "#     print(f\"val score: {val_score:.4f}\")"
   ]
  },
  {
   "cell_type": "code",
   "execution_count": 20,
   "id": "concerned-fantasy",
   "metadata": {
    "execution": {
     "iopub.execute_input": "2021-07-15T21:40:50.880259Z",
     "iopub.status.busy": "2021-07-15T21:40:50.879023Z",
     "iopub.status.idle": "2021-07-15T21:40:50.881350Z",
     "shell.execute_reply": "2021-07-15T21:40:50.881713Z",
     "shell.execute_reply.started": "2021-07-15T12:42:37.372839Z"
    },
    "papermill": {
     "duration": 0.040663,
     "end_time": "2021-07-15T21:40:50.881836",
     "exception": false,
     "start_time": "2021-07-15T21:40:50.841173",
     "status": "completed"
    },
    "tags": []
   },
   "outputs": [],
   "source": [
    "# oof_score = roc_auc_score(label_arr, oof_pred_arr)\n",
    "# score_list.append([\"oof\", oof_score])\n",
    "# pd.DataFrame(score_list, columns=[\"fold\", \"metric\"])"
   ]
  },
  {
   "cell_type": "code",
   "execution_count": 21,
   "id": "willing-charm",
   "metadata": {
    "execution": {
     "iopub.execute_input": "2021-07-15T21:40:50.955049Z",
     "iopub.status.busy": "2021-07-15T21:40:50.954536Z",
     "iopub.status.idle": "2021-07-15T21:40:50.958368Z",
     "shell.execute_reply": "2021-07-15T21:40:50.957953Z",
     "shell.execute_reply.started": "2021-07-15T12:42:37.384958Z"
    },
    "papermill": {
     "duration": 0.041786,
     "end_time": "2021-07-15T21:40:50.958474",
     "exception": false,
     "start_time": "2021-07-15T21:40:50.916688",
     "status": "completed"
    },
    "tags": []
   },
   "outputs": [],
   "source": [
    "# oof_df = train.copy()\n",
    "# oof_df[CLASSES] = oof_pred_arr\n",
    "# oof_df.to_csv(\"./oof_prediction.csv\", index=False)"
   ]
  },
  {
   "cell_type": "markdown",
   "id": "important-forestry",
   "metadata": {
    "papermill": {
     "duration": 0.034391,
     "end_time": "2021-07-15T21:40:51.027118",
     "exception": false,
     "start_time": "2021-07-15T21:40:50.992727",
     "status": "completed"
    },
    "tags": []
   },
   "source": [
    "## Make submission"
   ]
  },
  {
   "cell_type": "code",
   "execution_count": 22,
   "id": "finite-madrid",
   "metadata": {
    "execution": {
     "iopub.execute_input": "2021-07-15T21:40:51.101736Z",
     "iopub.status.busy": "2021-07-15T21:40:51.101230Z",
     "iopub.status.idle": "2021-07-15T21:40:51.105104Z",
     "shell.execute_reply": "2021-07-15T21:40:51.104664Z",
     "shell.execute_reply.started": "2021-07-15T12:42:37.393955Z"
    },
    "papermill": {
     "duration": 0.043277,
     "end_time": "2021-07-15T21:40:51.105209",
     "exception": false,
     "start_time": "2021-07-15T21:40:51.061932",
     "status": "completed"
    },
    "tags": []
   },
   "outputs": [],
   "source": [
    "# sub_df = smpl_sub.copy()\n",
    "# sub_df[CLASSES] = test_pred_arr.mean(axis=0)\n",
    "# sub_df.to_csv(\"./submission.csv\", index=False)\n",
    "# sub_df.head()"
   ]
  },
  {
   "cell_type": "markdown",
   "id": "electric-carry",
   "metadata": {
    "papermill": {
     "duration": 0.034625,
     "end_time": "2021-07-15T21:40:51.174649",
     "exception": false,
     "start_time": "2021-07-15T21:40:51.140024",
     "status": "completed"
    },
    "tags": []
   },
   "source": [
    "# EOF"
   ]
  }
 ],
 "metadata": {
  "kernelspec": {
   "display_name": "Python 3",
   "language": "python",
   "name": "python3"
  },
  "language_info": {
   "codemirror_mode": {
    "name": "ipython",
    "version": 3
   },
   "file_extension": ".py",
   "mimetype": "text/x-python",
   "name": "python",
   "nbconvert_exporter": "python",
   "pygments_lexer": "ipython3",
   "version": "3.7.10"
  },
  "papermill": {
   "default_parameters": {},
   "duration": 31877.663041,
   "end_time": "2021-07-15T21:40:54.877203",
   "environment_variables": {},
   "exception": null,
   "input_path": "__notebook__.ipynb",
   "output_path": "__notebook__.ipynb",
   "parameters": {},
   "start_time": "2021-07-15T12:49:37.214162",
   "version": "2.3.3"
  },
  "widgets": {
   "application/vnd.jupyter.widget-state+json": {
    "state": {
     "01d77ce944124bfba69fe3c1d4ae1c03": {
      "model_module": "@jupyter-widgets/base",
      "model_module_version": "1.2.0",
      "model_name": "LayoutModel",
      "state": {
       "_model_module": "@jupyter-widgets/base",
       "_model_module_version": "1.2.0",
       "_model_name": "LayoutModel",
       "_view_count": null,
       "_view_module": "@jupyter-widgets/base",
       "_view_module_version": "1.2.0",
       "_view_name": "LayoutView",
       "align_content": null,
       "align_items": null,
       "align_self": null,
       "border": null,
       "bottom": null,
       "display": null,
       "flex": null,
       "flex_flow": null,
       "grid_area": null,
       "grid_auto_columns": null,
       "grid_auto_flow": null,
       "grid_auto_rows": null,
       "grid_column": null,
       "grid_gap": null,
       "grid_row": null,
       "grid_template_areas": null,
       "grid_template_columns": null,
       "grid_template_rows": null,
       "height": null,
       "justify_content": null,
       "justify_items": null,
       "left": null,
       "margin": null,
       "max_height": null,
       "max_width": null,
       "min_height": null,
       "min_width": null,
       "object_fit": null,
       "object_position": null,
       "order": null,
       "overflow": null,
       "overflow_x": null,
       "overflow_y": null,
       "padding": null,
       "right": null,
       "top": null,
       "visibility": null,
       "width": null
      }
     },
     "114cec8d4c484097a1105859b6512b55": {
      "model_module": "@jupyter-widgets/base",
      "model_module_version": "1.2.0",
      "model_name": "LayoutModel",
      "state": {
       "_model_module": "@jupyter-widgets/base",
       "_model_module_version": "1.2.0",
       "_model_name": "LayoutModel",
       "_view_count": null,
       "_view_module": "@jupyter-widgets/base",
       "_view_module_version": "1.2.0",
       "_view_name": "LayoutView",
       "align_content": null,
       "align_items": null,
       "align_self": null,
       "border": null,
       "bottom": null,
       "display": null,
       "flex": null,
       "flex_flow": null,
       "grid_area": null,
       "grid_auto_columns": null,
       "grid_auto_flow": null,
       "grid_auto_rows": null,
       "grid_column": null,
       "grid_gap": null,
       "grid_row": null,
       "grid_template_areas": null,
       "grid_template_columns": null,
       "grid_template_rows": null,
       "height": null,
       "justify_content": null,
       "justify_items": null,
       "left": null,
       "margin": null,
       "max_height": null,
       "max_width": null,
       "min_height": null,
       "min_width": null,
       "object_fit": null,
       "object_position": null,
       "order": null,
       "overflow": null,
       "overflow_x": null,
       "overflow_y": null,
       "padding": null,
       "right": null,
       "top": null,
       "visibility": null,
       "width": null
      }
     },
     "2a5a5a29f30248fd8c6a55f91bd5fa0a": {
      "model_module": "@jupyter-widgets/controls",
      "model_module_version": "1.5.0",
      "model_name": "HTMLModel",
      "state": {
       "_dom_classes": [],
       "_model_module": "@jupyter-widgets/controls",
       "_model_module_version": "1.5.0",
       "_model_name": "HTMLModel",
       "_view_count": null,
       "_view_module": "@jupyter-widgets/controls",
       "_view_module_version": "1.5.0",
       "_view_name": "HTMLView",
       "description": "",
       "description_tooltip": null,
       "layout": "IPY_MODEL_ee3fc80f5b314221a6de9b7693e7fa6a",
       "placeholder": "​",
       "style": "IPY_MODEL_ae63ddd7f76c4cb0bffc95847b84d9de",
       "value": " 0.00%"
      }
     },
     "4c442271ca0c4504b998e4d9f148e328": {
      "model_module": "@jupyter-widgets/base",
      "model_module_version": "1.2.0",
      "model_name": "LayoutModel",
      "state": {
       "_model_module": "@jupyter-widgets/base",
       "_model_module_version": "1.2.0",
       "_model_name": "LayoutModel",
       "_view_count": null,
       "_view_module": "@jupyter-widgets/base",
       "_view_module_version": "1.2.0",
       "_view_name": "LayoutView",
       "align_content": null,
       "align_items": null,
       "align_self": null,
       "border": null,
       "bottom": null,
       "display": null,
       "flex": null,
       "flex_flow": null,
       "grid_area": null,
       "grid_auto_columns": null,
       "grid_auto_flow": null,
       "grid_auto_rows": null,
       "grid_column": null,
       "grid_gap": null,
       "grid_row": null,
       "grid_template_areas": null,
       "grid_template_columns": null,
       "grid_template_rows": null,
       "height": null,
       "justify_content": null,
       "justify_items": null,
       "left": null,
       "margin": null,
       "max_height": null,
       "max_width": null,
       "min_height": null,
       "min_width": null,
       "object_fit": null,
       "object_position": null,
       "order": null,
       "overflow": null,
       "overflow_x": null,
       "overflow_y": null,
       "padding": null,
       "right": null,
       "top": null,
       "visibility": null,
       "width": null
      }
     },
     "4e55be958182434cb88bae2adadde28d": {
      "model_module": "@jupyter-widgets/controls",
      "model_module_version": "1.5.0",
      "model_name": "DescriptionStyleModel",
      "state": {
       "_model_module": "@jupyter-widgets/controls",
       "_model_module_version": "1.5.0",
       "_model_name": "DescriptionStyleModel",
       "_view_count": null,
       "_view_module": "@jupyter-widgets/base",
       "_view_module_version": "1.2.0",
       "_view_name": "StyleView",
       "description_width": ""
      }
     },
     "65e8ecfe50ac46fa9c66423f6b90056d": {
      "model_module": "@jupyter-widgets/base",
      "model_module_version": "1.2.0",
      "model_name": "LayoutModel",
      "state": {
       "_model_module": "@jupyter-widgets/base",
       "_model_module_version": "1.2.0",
       "_model_name": "LayoutModel",
       "_view_count": null,
       "_view_module": "@jupyter-widgets/base",
       "_view_module_version": "1.2.0",
       "_view_name": "LayoutView",
       "align_content": null,
       "align_items": null,
       "align_self": null,
       "border": null,
       "bottom": null,
       "display": null,
       "flex": null,
       "flex_flow": null,
       "grid_area": null,
       "grid_auto_columns": null,
       "grid_auto_flow": null,
       "grid_auto_rows": null,
       "grid_column": null,
       "grid_gap": null,
       "grid_row": null,
       "grid_template_areas": null,
       "grid_template_columns": null,
       "grid_template_rows": null,
       "height": null,
       "justify_content": null,
       "justify_items": null,
       "left": null,
       "margin": null,
       "max_height": null,
       "max_width": null,
       "min_height": null,
       "min_width": null,
       "object_fit": null,
       "object_position": null,
       "order": null,
       "overflow": null,
       "overflow_x": null,
       "overflow_y": null,
       "padding": null,
       "right": null,
       "top": null,
       "visibility": null,
       "width": null
      }
     },
     "667c7e5475314983a9db3691a1cc2802": {
      "model_module": "@jupyter-widgets/base",
      "model_module_version": "1.2.0",
      "model_name": "LayoutModel",
      "state": {
       "_model_module": "@jupyter-widgets/base",
       "_model_module_version": "1.2.0",
       "_model_name": "LayoutModel",
       "_view_count": null,
       "_view_module": "@jupyter-widgets/base",
       "_view_module_version": "1.2.0",
       "_view_name": "LayoutView",
       "align_content": null,
       "align_items": null,
       "align_self": null,
       "border": null,
       "bottom": null,
       "display": null,
       "flex": null,
       "flex_flow": null,
       "grid_area": null,
       "grid_auto_columns": null,
       "grid_auto_flow": null,
       "grid_auto_rows": null,
       "grid_column": null,
       "grid_gap": null,
       "grid_row": null,
       "grid_template_areas": null,
       "grid_template_columns": null,
       "grid_template_rows": null,
       "height": null,
       "justify_content": null,
       "justify_items": null,
       "left": null,
       "margin": null,
       "max_height": null,
       "max_width": null,
       "min_height": null,
       "min_width": null,
       "object_fit": null,
       "object_position": null,
       "order": null,
       "overflow": null,
       "overflow_x": null,
       "overflow_y": null,
       "padding": null,
       "right": null,
       "top": null,
       "visibility": null,
       "width": null
      }
     },
     "76c6ccb72afd4adfa33badfe5a55c485": {
      "model_module": "@jupyter-widgets/controls",
      "model_module_version": "1.5.0",
      "model_name": "DescriptionStyleModel",
      "state": {
       "_model_module": "@jupyter-widgets/controls",
       "_model_module_version": "1.5.0",
       "_model_name": "DescriptionStyleModel",
       "_view_count": null,
       "_view_module": "@jupyter-widgets/base",
       "_view_module_version": "1.2.0",
       "_view_name": "StyleView",
       "description_width": ""
      }
     },
     "7ef93d94b7a3472ab9b4315d0cd84637": {
      "model_module": "@jupyter-widgets/controls",
      "model_module_version": "1.5.0",
      "model_name": "FloatProgressModel",
      "state": {
       "_dom_classes": [],
       "_model_module": "@jupyter-widgets/controls",
       "_model_module_version": "1.5.0",
       "_model_name": "FloatProgressModel",
       "_view_count": null,
       "_view_module": "@jupyter-widgets/controls",
       "_view_module_version": "1.5.0",
       "_view_name": "ProgressView",
       "bar_style": "success",
       "description": "this epoch",
       "description_tooltip": null,
       "layout": "IPY_MODEL_114cec8d4c484097a1105859b6512b55",
       "max": 1.0,
       "min": 0.0,
       "orientation": "horizontal",
       "style": "IPY_MODEL_d3ff68c885274110824662d627ae17ce",
       "value": 0.0
      }
     },
     "995faa669312404fbed3366fbd1f049a": {
      "model_module": "@jupyter-widgets/controls",
      "model_module_version": "1.5.0",
      "model_name": "VBoxModel",
      "state": {
       "_dom_classes": [],
       "_model_module": "@jupyter-widgets/controls",
       "_model_module_version": "1.5.0",
       "_model_name": "VBoxModel",
       "_view_count": null,
       "_view_module": "@jupyter-widgets/controls",
       "_view_module_version": "1.5.0",
       "_view_name": "VBoxView",
       "box_style": "",
       "children": [
        "IPY_MODEL_ed1bae55cf764bf0bfb70f03590b8258",
        "IPY_MODEL_fe54e422eee84b888d1b302e85478357",
        "IPY_MODEL_9a28a6d710d34452a30d7a7bf0b5f8f0"
       ],
       "layout": "IPY_MODEL_01d77ce944124bfba69fe3c1d4ae1c03"
      }
     },
     "9a28a6d710d34452a30d7a7bf0b5f8f0": {
      "model_module": "@jupyter-widgets/controls",
      "model_module_version": "1.5.0",
      "model_name": "HTMLModel",
      "state": {
       "_dom_classes": [],
       "_model_module": "@jupyter-widgets/controls",
       "_model_module_version": "1.5.0",
       "_model_name": "HTMLModel",
       "_view_count": null,
       "_view_module": "@jupyter-widgets/controls",
       "_view_module_version": "1.5.0",
       "_view_name": "HTMLView",
       "description": "",
       "description_tooltip": null,
       "layout": "IPY_MODEL_c410624cf9c245f7a9fbfc35185b583d",
       "placeholder": "​",
       "style": "IPY_MODEL_4e55be958182434cb88bae2adadde28d",
       "value": "     45000 iter, 30 epoch / 30 epochs<br />    1.3736 iters/sec. Estimated time to finish: 0:00:00."
      }
     },
     "ae63ddd7f76c4cb0bffc95847b84d9de": {
      "model_module": "@jupyter-widgets/controls",
      "model_module_version": "1.5.0",
      "model_name": "DescriptionStyleModel",
      "state": {
       "_model_module": "@jupyter-widgets/controls",
       "_model_module_version": "1.5.0",
       "_model_name": "DescriptionStyleModel",
       "_view_count": null,
       "_view_module": "@jupyter-widgets/base",
       "_view_module_version": "1.2.0",
       "_view_name": "StyleView",
       "description_width": ""
      }
     },
     "c410624cf9c245f7a9fbfc35185b583d": {
      "model_module": "@jupyter-widgets/base",
      "model_module_version": "1.2.0",
      "model_name": "LayoutModel",
      "state": {
       "_model_module": "@jupyter-widgets/base",
       "_model_module_version": "1.2.0",
       "_model_name": "LayoutModel",
       "_view_count": null,
       "_view_module": "@jupyter-widgets/base",
       "_view_module_version": "1.2.0",
       "_view_name": "LayoutView",
       "align_content": null,
       "align_items": null,
       "align_self": null,
       "border": null,
       "bottom": null,
       "display": null,
       "flex": null,
       "flex_flow": null,
       "grid_area": null,
       "grid_auto_columns": null,
       "grid_auto_flow": null,
       "grid_auto_rows": null,
       "grid_column": null,
       "grid_gap": null,
       "grid_row": null,
       "grid_template_areas": null,
       "grid_template_columns": null,
       "grid_template_rows": null,
       "height": null,
       "justify_content": null,
       "justify_items": null,
       "left": null,
       "margin": null,
       "max_height": null,
       "max_width": null,
       "min_height": null,
       "min_width": null,
       "object_fit": null,
       "object_position": null,
       "order": null,
       "overflow": null,
       "overflow_x": null,
       "overflow_y": null,
       "padding": null,
       "right": null,
       "top": null,
       "visibility": null,
       "width": null
      }
     },
     "cc17f8f38e594c3d8eac70403eb143c1": {
      "model_module": "@jupyter-widgets/base",
      "model_module_version": "1.2.0",
      "model_name": "LayoutModel",
      "state": {
       "_model_module": "@jupyter-widgets/base",
       "_model_module_version": "1.2.0",
       "_model_name": "LayoutModel",
       "_view_count": null,
       "_view_module": "@jupyter-widgets/base",
       "_view_module_version": "1.2.0",
       "_view_name": "LayoutView",
       "align_content": null,
       "align_items": null,
       "align_self": null,
       "border": null,
       "bottom": null,
       "display": null,
       "flex": null,
       "flex_flow": null,
       "grid_area": null,
       "grid_auto_columns": null,
       "grid_auto_flow": null,
       "grid_auto_rows": null,
       "grid_column": null,
       "grid_gap": null,
       "grid_row": null,
       "grid_template_areas": null,
       "grid_template_columns": null,
       "grid_template_rows": null,
       "height": null,
       "justify_content": null,
       "justify_items": null,
       "left": null,
       "margin": null,
       "max_height": null,
       "max_width": null,
       "min_height": null,
       "min_width": null,
       "object_fit": null,
       "object_position": null,
       "order": null,
       "overflow": null,
       "overflow_x": null,
       "overflow_y": null,
       "padding": null,
       "right": null,
       "top": null,
       "visibility": null,
       "width": null
      }
     },
     "d3ff68c885274110824662d627ae17ce": {
      "model_module": "@jupyter-widgets/controls",
      "model_module_version": "1.5.0",
      "model_name": "ProgressStyleModel",
      "state": {
       "_model_module": "@jupyter-widgets/controls",
       "_model_module_version": "1.5.0",
       "_model_name": "ProgressStyleModel",
       "_view_count": null,
       "_view_module": "@jupyter-widgets/base",
       "_view_module_version": "1.2.0",
       "_view_name": "StyleView",
       "bar_color": null,
       "description_width": ""
      }
     },
     "d64caac4475346a19aa71b8938cb6c8a": {
      "model_module": "@jupyter-widgets/controls",
      "model_module_version": "1.5.0",
      "model_name": "ProgressStyleModel",
      "state": {
       "_model_module": "@jupyter-widgets/controls",
       "_model_module_version": "1.5.0",
       "_model_name": "ProgressStyleModel",
       "_view_count": null,
       "_view_module": "@jupyter-widgets/base",
       "_view_module_version": "1.2.0",
       "_view_name": "StyleView",
       "bar_color": null,
       "description_width": ""
      }
     },
     "d6772d33a64b45e39c29094510668b63": {
      "model_module": "@jupyter-widgets/controls",
      "model_module_version": "1.5.0",
      "model_name": "HTMLModel",
      "state": {
       "_dom_classes": [],
       "_model_module": "@jupyter-widgets/controls",
       "_model_module_version": "1.5.0",
       "_model_name": "HTMLModel",
       "_view_count": null,
       "_view_module": "@jupyter-widgets/controls",
       "_view_module_version": "1.5.0",
       "_view_name": "HTMLView",
       "description": "",
       "description_tooltip": null,
       "layout": "IPY_MODEL_65e8ecfe50ac46fa9c66423f6b90056d",
       "placeholder": "​",
       "style": "IPY_MODEL_76c6ccb72afd4adfa33badfe5a55c485",
       "value": "100.00%"
      }
     },
     "daf912d15edf4035a8b88cc4fe71d2b6": {
      "model_module": "@jupyter-widgets/controls",
      "model_module_version": "1.5.0",
      "model_name": "FloatProgressModel",
      "state": {
       "_dom_classes": [],
       "_model_module": "@jupyter-widgets/controls",
       "_model_module_version": "1.5.0",
       "_model_name": "FloatProgressModel",
       "_view_count": null,
       "_view_module": "@jupyter-widgets/controls",
       "_view_module_version": "1.5.0",
       "_view_name": "ProgressView",
       "bar_style": "success",
       "description": "total",
       "description_tooltip": null,
       "layout": "IPY_MODEL_4c442271ca0c4504b998e4d9f148e328",
       "max": 1.0,
       "min": 0.0,
       "orientation": "horizontal",
       "style": "IPY_MODEL_d64caac4475346a19aa71b8938cb6c8a",
       "value": 1.0
      }
     },
     "ed1bae55cf764bf0bfb70f03590b8258": {
      "model_module": "@jupyter-widgets/controls",
      "model_module_version": "1.5.0",
      "model_name": "HBoxModel",
      "state": {
       "_dom_classes": [],
       "_model_module": "@jupyter-widgets/controls",
       "_model_module_version": "1.5.0",
       "_model_name": "HBoxModel",
       "_view_count": null,
       "_view_module": "@jupyter-widgets/controls",
       "_view_module_version": "1.5.0",
       "_view_name": "HBoxView",
       "box_style": "",
       "children": [
        "IPY_MODEL_daf912d15edf4035a8b88cc4fe71d2b6",
        "IPY_MODEL_d6772d33a64b45e39c29094510668b63"
       ],
       "layout": "IPY_MODEL_667c7e5475314983a9db3691a1cc2802"
      }
     },
     "ee3fc80f5b314221a6de9b7693e7fa6a": {
      "model_module": "@jupyter-widgets/base",
      "model_module_version": "1.2.0",
      "model_name": "LayoutModel",
      "state": {
       "_model_module": "@jupyter-widgets/base",
       "_model_module_version": "1.2.0",
       "_model_name": "LayoutModel",
       "_view_count": null,
       "_view_module": "@jupyter-widgets/base",
       "_view_module_version": "1.2.0",
       "_view_name": "LayoutView",
       "align_content": null,
       "align_items": null,
       "align_self": null,
       "border": null,
       "bottom": null,
       "display": null,
       "flex": null,
       "flex_flow": null,
       "grid_area": null,
       "grid_auto_columns": null,
       "grid_auto_flow": null,
       "grid_auto_rows": null,
       "grid_column": null,
       "grid_gap": null,
       "grid_row": null,
       "grid_template_areas": null,
       "grid_template_columns": null,
       "grid_template_rows": null,
       "height": null,
       "justify_content": null,
       "justify_items": null,
       "left": null,
       "margin": null,
       "max_height": null,
       "max_width": null,
       "min_height": null,
       "min_width": null,
       "object_fit": null,
       "object_position": null,
       "order": null,
       "overflow": null,
       "overflow_x": null,
       "overflow_y": null,
       "padding": null,
       "right": null,
       "top": null,
       "visibility": null,
       "width": null
      }
     },
     "fe54e422eee84b888d1b302e85478357": {
      "model_module": "@jupyter-widgets/controls",
      "model_module_version": "1.5.0",
      "model_name": "HBoxModel",
      "state": {
       "_dom_classes": [],
       "_model_module": "@jupyter-widgets/controls",
       "_model_module_version": "1.5.0",
       "_model_name": "HBoxModel",
       "_view_count": null,
       "_view_module": "@jupyter-widgets/controls",
       "_view_module_version": "1.5.0",
       "_view_name": "HBoxView",
       "box_style": "",
       "children": [
        "IPY_MODEL_7ef93d94b7a3472ab9b4315d0cd84637",
        "IPY_MODEL_2a5a5a29f30248fd8c6a55f91bd5fa0a"
       ],
       "layout": "IPY_MODEL_cc17f8f38e594c3d8eac70403eb143c1"
      }
     }
    },
    "version_major": 2,
    "version_minor": 0
   }
  }
 },
 "nbformat": 4,
 "nbformat_minor": 5
}
